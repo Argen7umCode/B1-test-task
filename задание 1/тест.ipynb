{
 "cells": [
  {
   "cell_type": "code",
   "execution_count": 2,
   "metadata": {},
   "outputs": [],
   "source": [
    "from random import randint, random, randrange, choices\n",
    "from datetime import datetime, timedelta\n",
    "from string import ascii_letters\n",
    "from re import sub\n",
    "from typing import Optional, List, Any, Callable\n",
    "import pandas as pd\n",
    "import sqlite3\n",
    "\n",
    "\n",
    "def random_date() -> datetime:\n",
    "    delta = timedelta(seconds = 5 * 365 * 24 * 3600)\n",
    "    int_delta = (delta.days * 24 * 60 * 60) + delta.seconds\n",
    "    random_second = randrange(int_delta)\n",
    "    return datetime.now() - timedelta(seconds = random_second)"
   ]
  },
  {
   "cell_type": "code",
   "execution_count": 3,
   "metadata": {},
   "outputs": [],
   "source": [
    "def random_float() -> float:\n",
    "    return round(random() * 20, 8)"
   ]
  },
  {
   "cell_type": "code",
   "execution_count": 4,
   "metadata": {},
   "outputs": [],
   "source": [
    "def random_int() -> int:\n",
    "    return randint(1, 100_000_000)"
   ]
  },
  {
   "cell_type": "code",
   "execution_count": 5,
   "metadata": {},
   "outputs": [],
   "source": [
    "alphabet_kir = ''.join(map(chr, list(range(ord('а'), ord('я'))) + \\\n",
    "                                list(range(ord('А'), ord('Я')))))\n",
    "alphabet_lat = ascii_letters"
   ]
  },
  {
   "cell_type": "code",
   "execution_count": 6,
   "metadata": {},
   "outputs": [],
   "source": [
    "def random_string(alphabet: str, lenght: int) -> str:\n",
    "    return ''.join(choices(alphabet, k=lenght))"
   ]
  },
  {
   "cell_type": "code",
   "execution_count": 7,
   "metadata": {},
   "outputs": [],
   "source": [
    "def get_random_string() -> str:\n",
    "    return '||'.join([\n",
    "        random_date().strftime('%d.%m.%Y'), random_string(alphabet_lat, 10), \n",
    "        random_string(alphabet_kir, 10), str(random_int()), str(random_float())\n",
    "    ]) + '||'"
   ]
  },
  {
   "cell_type": "code",
   "execution_count": 8,
   "metadata": {},
   "outputs": [],
   "source": [
    "def get_n_random_strings(num: int) -> str:\n",
    "    return '\\n'.join(get_random_string() for _ in range(num))"
   ]
  },
  {
   "cell_type": "code",
   "execution_count": 9,
   "metadata": {},
   "outputs": [],
   "source": [
    "def save_random_strings(path: str) -> None:\n",
    "    data = get_n_random_strings(100_000)\n",
    "    with open(path, 'w') as file:\n",
    "        file.write(data)"
   ]
  },
  {
   "cell_type": "code",
   "execution_count": 10,
   "metadata": {},
   "outputs": [],
   "source": [
    "pathes = [f'data/data_{i}.txt' for i in range(100)]"
   ]
  },
  {
   "cell_type": "code",
   "execution_count": 13,
   "metadata": {},
   "outputs": [],
   "source": [
    "for path in pathes:\n",
    "    save_random_strings(path)"
   ]
  },
  {
   "cell_type": "code",
   "execution_count": 14,
   "metadata": {},
   "outputs": [],
   "source": [
    "def read_file(path: str) -> str:\n",
    "    with open(path, 'r') as file:\n",
    "        return file.read()"
   ]
  },
  {
   "cell_type": "code",
   "execution_count": 15,
   "metadata": {},
   "outputs": [],
   "source": [
    "def remove_pattern(data: str, pattern: str) -> [str, int]:\n",
    "    cleaned_data = sub(pattern, '', data)\n",
    "    count = (len(data) - len(cleaned_data)) // len(pattern)\n",
    "    return cleaned_data, count"
   ]
  },
  {
   "cell_type": "code",
   "execution_count": 16,
   "metadata": {},
   "outputs": [],
   "source": [
    "def concat_files(file_path: str,\n",
    "                 pathes: List[str], \n",
    "                 pattern_to_remove: Optional[str] = None) -> str:\n",
    "    with open(file_path, \"a\") as file:\n",
    "        for path in pathes:\n",
    "            data = read_file(path) + '\\n'\n",
    "            if pattern_to_remove:\n",
    "                data, count = remove_pattern(data, pattern_to_remove)\n",
    "                print(f'Removed: {count}')\n",
    "            file.write(data)"
   ]
  },
  {
   "cell_type": "code",
   "execution_count": 17,
   "metadata": {},
   "outputs": [],
   "source": [
    "concat_files('file.txt', pathes)"
   ]
  },
  {
   "cell_type": "code",
   "execution_count": 18,
   "metadata": {},
   "outputs": [],
   "source": [
    "def split_by_rows(data: str) -> List[str]:\n",
    "    return data.split('\\n')\n",
    "\n",
    "def split_row_by_spliter(row: str, sp: str = '||') -> List[str]:\n",
    "    return row[:-2].split(sp)\n",
    "\n",
    "def split_data(data: str, sp: str = '||') -> List[List[str]]:\n",
    "    return [split_row_by_spliter(row, sp) for row in split_by_rows(data)]"
   ]
  },
  {
   "cell_type": "code",
   "execution_count": 19,
   "metadata": {},
   "outputs": [],
   "source": [
    "data = read_file('file.txt')"
   ]
  },
  {
   "cell_type": "code",
   "execution_count": 20,
   "metadata": {},
   "outputs": [],
   "source": [
    "def convert_field_to_datatype(item: str, instance: Callable) -> Any:\n",
    "    try:\n",
    "        item = instance(item)\n",
    "    except TypeError:\n",
    "        print(f\"Can't convert {item} to {instance}. {item} is still str-type\")\n",
    "    return item"
   ]
  },
  {
   "cell_type": "code",
   "execution_count": 21,
   "metadata": {},
   "outputs": [],
   "source": [
    "def convert_row_to_datatypes(row: List[str],\n",
    "                               datatypes: List[Callable]) -> List[Any]:\n",
    "    return tuple([convert_field_to_datatype(row, instance) for row, instance in zip(row, datatypes)])"
   ]
  },
  {
   "cell_type": "code",
   "execution_count": 22,
   "metadata": {},
   "outputs": [],
   "source": [
    "def convert_data_to_datatypes(data: List[List[str]],\n",
    "                                datatypes: List[Callable]) -> List[List[Any]]:\n",
    "    return [convert_row_to_datatypes(row, datatypes) for row in data]"
   ]
  },
  {
   "cell_type": "code",
   "execution_count": 23,
   "metadata": {},
   "outputs": [],
   "source": [
    "def create_table():\n",
    "    with sqlite3.connect('my_db.db') as con:\n",
    "        cursor = con.cursor()\n",
    "        cursor.execute('''\n",
    "            CREATE TABLE IF NOT EXISTS data (\n",
    "                date TEXT NOT NULL,\n",
    "                lat_data TEXT NOT NULL,\n",
    "                kir_data TEXT NOT NULL,\n",
    "                int_num INTEGER NOT NULL,\n",
    "                float_num REAL NOT NULL\n",
    "            )\n",
    "        ''')"
   ]
  },
  {
   "cell_type": "code",
   "execution_count": 24,
   "metadata": {},
   "outputs": [],
   "source": [
    "create_table()"
   ]
  },
  {
   "cell_type": "code",
   "execution_count": 25,
   "metadata": {},
   "outputs": [],
   "source": [
    "def insert_into_db(data: str, db_path: str):\n",
    "    datatypes = [str, str, str, int, float]\n",
    "    data = split_data(data)[:-1]\n",
    "    conv_data = convert_data_to_datatypes(data, datatypes)\n",
    "    df = pd.DataFrame(conv_data, \n",
    "                      columns=['date', 'lat_data', 'kir_data', 'int_num', 'float_num'])\n",
    "    with sqlite3.connect(db_path) as connection:\n",
    "        inserted = df.to_sql(\"data\", con=connection, if_exists=\"append\", index=False)\n",
    "        connection.commit()\n",
    "        print(f'Inserted: {inserted}')"
   ]
  },
  {
   "cell_type": "code",
   "execution_count": 26,
   "metadata": {},
   "outputs": [
    {
     "name": "stdout",
     "output_type": "stream",
     "text": [
      "Inserted: 10000000\n"
     ]
    }
   ],
   "source": [
    "insert_into_db(data, 'my_db.db')"
   ]
  },
  {
   "cell_type": "code",
   "execution_count": 37,
   "metadata": {},
   "outputs": [],
   "source": [
    "def get_stat_data(db_path):\n",
    "    with sqlite3.connect(db_path) as connection:\n",
    "        cur = connection.cursor()\n",
    "        median = cur.execute(\n",
    "            \"\"\"SELECT float_num\n",
    "               FROM data\n",
    "               ORDER BY float_num\n",
    "               LIMIT 1\n",
    "               OFFSET (SELECT COUNT(*)\n",
    "               FROM data) / 2\"\"\").fetchone()[0]\n",
    "        sum_ = cur.execute(\"\"\"SELECT SUM(int_num) FROM data\"\"\").fetchone()[0]\n",
    "        return sum_, median"
   ]
  },
  {
   "cell_type": "code",
   "execution_count": 38,
   "metadata": {},
   "outputs": [
    {
     "data": {
      "text/plain": [
       "(499802658793228, 10.00708479)"
      ]
     },
     "execution_count": 38,
     "metadata": {},
     "output_type": "execute_result"
    }
   ],
   "source": [
    "get_stat_data('my_db.db')"
   ]
  }
 ],
 "metadata": {
  "kernelspec": {
   "display_name": "Python 3",
   "language": "python",
   "name": "python3"
  },
  "language_info": {
   "codemirror_mode": {
    "name": "ipython",
    "version": 3
   },
   "file_extension": ".py",
   "mimetype": "text/x-python",
   "name": "python",
   "nbconvert_exporter": "python",
   "pygments_lexer": "ipython3",
   "version": "3.10.12"
  }
 },
 "nbformat": 4,
 "nbformat_minor": 2
}
